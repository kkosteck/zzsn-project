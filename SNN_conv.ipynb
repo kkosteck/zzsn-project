{
 "cells": [
  {
   "cell_type": "code",
   "execution_count": 1,
   "metadata": {},
   "outputs": [],
   "source": [
    "from time import time as t\n",
    "\n",
    "import torch\n",
    "from torchvision import transforms\n",
    "from tqdm import tqdm\n",
    "\n",
    "from bindsnet.datasets import MNIST\n",
    "from bindsnet.encoding import PoissonEncoder\n",
    "from bindsnet.learning import PostPre\n",
    "from bindsnet.network import Network\n",
    "from bindsnet.network.monitors import Monitor\n",
    "from bindsnet.network.nodes import DiehlAndCookNodes, Input\n",
    "from bindsnet.network.topology import Connection, Conv2dConnection"
   ]
  },
  {
   "cell_type": "code",
   "execution_count": 2,
   "metadata": {},
   "outputs": [],
   "source": [
    "n_epochs = 1\n",
    "n_test = 10000\n",
    "n_train = 60000\n",
    "batch_size = 1\n",
    "kernel_size = 16\n",
    "stride = 4\n",
    "n_filters = 25\n",
    "padding = 0\n",
    "time = 50\n",
    "dt = 1.0\n",
    "intensity = 128.0\n",
    "progress_interval = 10\n",
    "update_interval = 250\n",
    "train = True\n",
    "plot = True"
   ]
  },
  {
   "cell_type": "code",
   "execution_count": 3,
   "metadata": {},
   "outputs": [],
   "source": [
    "device = torch.device(\"cuda\" if torch.cuda.is_available() else \"cpu\")\n",
    "torch.cuda.manual_seed_all(0)\n",
    "\n",
    "if not train:\n",
    "    update_interval = n_test\n",
    "\n",
    "conv_size = int((28 - kernel_size + 2 * padding) / stride) + 1\n",
    "per_class = int((n_filters * conv_size * conv_size) / 10)"
   ]
  },
  {
   "cell_type": "code",
   "execution_count": 4,
   "metadata": {},
   "outputs": [
    {
     "data": {
      "text/plain": [
       "Network(\n",
       "  (X): Input()\n",
       "  (Y): DiehlAndCookNodes()\n",
       "  (X_to_Y): Conv2dConnection(\n",
       "    (source): Input()\n",
       "    (target): DiehlAndCookNodes()\n",
       "  )\n",
       "  (Y_to_Y): Connection(\n",
       "    (source): DiehlAndCookNodes()\n",
       "    (target): DiehlAndCookNodes()\n",
       "  )\n",
       ")"
      ]
     },
     "execution_count": 4,
     "metadata": {},
     "output_type": "execute_result"
    }
   ],
   "source": [
    "# Build network.\n",
    "network = Network()\n",
    "input_layer = Input(n=1*28*28, shape=(1, 28, 28), traces=True)\n",
    "\n",
    "conv_layer = DiehlAndCookNodes(\n",
    "    n=n_filters * conv_size * conv_size,\n",
    "    shape=(n_filters, conv_size, conv_size),\n",
    "    traces=True,\n",
    ")\n",
    "\n",
    "conv_conn = Conv2dConnection(\n",
    "    input_layer,\n",
    "    conv_layer,\n",
    "    kernel_size=kernel_size,\n",
    "    stride=stride,\n",
    "    update_rule=PostPre,\n",
    "    norm=0.4 * kernel_size**2,\n",
    "    nu=[1e-4, 1e-2],\n",
    "    wmax=1.0,\n",
    ")\n",
    "\n",
    "w = torch.zeros(n_filters, conv_size, conv_size, n_filters, conv_size, conv_size)\n",
    "for fltr1 in range(n_filters):\n",
    "    for fltr2 in range(n_filters):\n",
    "        if fltr1 != fltr2:\n",
    "            for i in range(conv_size):\n",
    "                for j in range(conv_size):\n",
    "                    w[fltr1, i, j, fltr2, i, j] = -100.0\n",
    "\n",
    "w = w.view(n_filters * conv_size * conv_size, n_filters * conv_size * conv_size)\n",
    "recurrent_conn = Connection(conv_layer, conv_layer, w=w)\n",
    "\n",
    "network.add_layer(input_layer, name=\"X\")\n",
    "network.add_layer(conv_layer, name=\"Y\")\n",
    "network.add_connection(conv_conn, source=\"X\", target=\"Y\")\n",
    "network.add_connection(recurrent_conn, source=\"Y\", target=\"Y\")\n",
    "\n",
    "# Voltage recording for excitatory and inhibitory layers.\n",
    "voltage_monitor = Monitor(network.layers[\"Y\"], [\"v\"], time=time)\n",
    "network.add_monitor(voltage_monitor, name=\"output_voltage\")\n",
    "network.to(\"cuda\")"
   ]
  },
  {
   "cell_type": "code",
   "execution_count": 5,
   "metadata": {},
   "outputs": [
    {
     "name": "stdout",
     "output_type": "stream",
     "text": [
      "Downloading http://yann.lecun.com/exdb/mnist/train-images-idx3-ubyte.gz\n",
      "Downloading http://yann.lecun.com/exdb/mnist/train-images-idx3-ubyte.gz to ../../data/MNIST\\TorchvisionDatasetWrapper\\raw\\train-images-idx3-ubyte.gz\n"
     ]
    },
    {
     "data": {
      "application/vnd.jupyter.widget-view+json": {
       "model_id": "800b1aedee0842ebb95e7f26771f5a51",
       "version_major": 2,
       "version_minor": 0
      },
      "text/plain": [
       "  0%|          | 0/9912422 [00:00<?, ?it/s]"
      ]
     },
     "metadata": {},
     "output_type": "display_data"
    },
    {
     "name": "stdout",
     "output_type": "stream",
     "text": [
      "Extracting ../../data/MNIST\\TorchvisionDatasetWrapper\\raw\\train-images-idx3-ubyte.gz to ../../data/MNIST\\TorchvisionDatasetWrapper\\raw\n",
      "\n",
      "Downloading http://yann.lecun.com/exdb/mnist/train-labels-idx1-ubyte.gz\n",
      "Downloading http://yann.lecun.com/exdb/mnist/train-labels-idx1-ubyte.gz to ../../data/MNIST\\TorchvisionDatasetWrapper\\raw\\train-labels-idx1-ubyte.gz\n"
     ]
    },
    {
     "data": {
      "application/vnd.jupyter.widget-view+json": {
       "model_id": "afead90c41b240328d2b6acd32c0210d",
       "version_major": 2,
       "version_minor": 0
      },
      "text/plain": [
       "  0%|          | 0/28881 [00:00<?, ?it/s]"
      ]
     },
     "metadata": {},
     "output_type": "display_data"
    },
    {
     "name": "stdout",
     "output_type": "stream",
     "text": [
      "Extracting ../../data/MNIST\\TorchvisionDatasetWrapper\\raw\\train-labels-idx1-ubyte.gz to ../../data/MNIST\\TorchvisionDatasetWrapper\\raw\n",
      "\n",
      "Downloading http://yann.lecun.com/exdb/mnist/t10k-images-idx3-ubyte.gz\n",
      "Downloading http://yann.lecun.com/exdb/mnist/t10k-images-idx3-ubyte.gz to ../../data/MNIST\\TorchvisionDatasetWrapper\\raw\\t10k-images-idx3-ubyte.gz\n"
     ]
    },
    {
     "data": {
      "application/vnd.jupyter.widget-view+json": {
       "model_id": "f7c14b0ab63c47c1bbfcf32d95250a8d",
       "version_major": 2,
       "version_minor": 0
      },
      "text/plain": [
       "  0%|          | 0/1648877 [00:00<?, ?it/s]"
      ]
     },
     "metadata": {},
     "output_type": "display_data"
    },
    {
     "name": "stdout",
     "output_type": "stream",
     "text": [
      "Extracting ../../data/MNIST\\TorchvisionDatasetWrapper\\raw\\t10k-images-idx3-ubyte.gz to ../../data/MNIST\\TorchvisionDatasetWrapper\\raw\n",
      "\n",
      "Downloading http://yann.lecun.com/exdb/mnist/t10k-labels-idx1-ubyte.gz\n",
      "Downloading http://yann.lecun.com/exdb/mnist/t10k-labels-idx1-ubyte.gz to ../../data/MNIST\\TorchvisionDatasetWrapper\\raw\\t10k-labels-idx1-ubyte.gz\n"
     ]
    },
    {
     "data": {
      "application/vnd.jupyter.widget-view+json": {
       "model_id": "2bc06ff73e3b4cb4a153c782ab943904",
       "version_major": 2,
       "version_minor": 0
      },
      "text/plain": [
       "  0%|          | 0/4542 [00:00<?, ?it/s]"
      ]
     },
     "metadata": {},
     "output_type": "display_data"
    },
    {
     "name": "stdout",
     "output_type": "stream",
     "text": [
      "Extracting ../../data/MNIST\\TorchvisionDatasetWrapper\\raw\\t10k-labels-idx1-ubyte.gz to ../../data/MNIST\\TorchvisionDatasetWrapper\\raw\n",
      "\n"
     ]
    }
   ],
   "source": [
    "# Load MNIST data.\n",
    "train_dataset = MNIST(\n",
    "    PoissonEncoder(time=time, dt=dt),\n",
    "    None,\n",
    "    \"../../data/MNIST\",\n",
    "    download=True,\n",
    "    train=True,\n",
    "    transform=transforms.Compose(\n",
    "        [transforms.ToTensor(), transforms.Lambda(lambda x: x * intensity)]\n",
    "    ),\n",
    ")"
   ]
  },
  {
   "cell_type": "code",
   "execution_count": 6,
   "metadata": {},
   "outputs": [],
   "source": [
    "spikes = {}\n",
    "for layer in set(network.layers):\n",
    "    spikes[layer] = Monitor(network.layers[layer], state_vars=[\"s\"], time=time)\n",
    "    network.add_monitor(spikes[layer], name=\"%s_spikes\" % layer)\n",
    "\n",
    "voltages = {}\n",
    "for layer in set(network.layers) - {\"X\"}:\n",
    "    voltages[layer] = Monitor(network.layers[layer], state_vars=[\"v\"], time=time)\n",
    "    network.add_monitor(voltages[layer], name=\"%s_voltages\" % layer)"
   ]
  },
  {
   "cell_type": "code",
   "execution_count": 8,
   "metadata": {},
   "outputs": [
    {
     "name": "stdout",
     "output_type": "stream",
     "text": [
      "Begin training.\n",
      "\n",
      "Progress: 0 / 1 (0.0000 seconds)\n"
     ]
    },
    {
     "name": "stderr",
     "output_type": "stream",
     "text": [
      "  0%|          | 161/60000 [00:38<4:01:06,  4.14it/s]\n"
     ]
    },
    {
     "ename": "KeyboardInterrupt",
     "evalue": "",
     "output_type": "error",
     "traceback": [
      "\u001b[1;31m---------------------------------------------------------------------------\u001b[0m",
      "\u001b[1;31mKeyboardInterrupt\u001b[0m                         Traceback (most recent call last)",
      "\u001b[1;32mc:\\Users\\01143577\\Desktop\\codes\\zzsn\\zzsn_conv.ipynb Cell 7'\u001b[0m in \u001b[0;36m<cell line: 13>\u001b[1;34m()\u001b[0m\n\u001b[0;32m     <a href='vscode-notebook-cell:/c%3A/Users/01143577/Desktop/codes/zzsn/zzsn_conv.ipynb#ch0000008?line=31'>32</a>\u001b[0m label \u001b[39m=\u001b[39m batch[\u001b[39m\"\u001b[39m\u001b[39mlabel\u001b[39m\u001b[39m\"\u001b[39m]\n\u001b[0;32m     <a href='vscode-notebook-cell:/c%3A/Users/01143577/Desktop/codes/zzsn/zzsn_conv.ipynb#ch0000008?line=33'>34</a>\u001b[0m \u001b[39m# Run the network on the input.\u001b[39;00m\n\u001b[1;32m---> <a href='vscode-notebook-cell:/c%3A/Users/01143577/Desktop/codes/zzsn/zzsn_conv.ipynb#ch0000008?line=34'>35</a>\u001b[0m network\u001b[39m.\u001b[39;49mrun(inputs\u001b[39m=\u001b[39;49minputs, time\u001b[39m=\u001b[39;49mtime, input_time_dim\u001b[39m=\u001b[39;49m\u001b[39m1\u001b[39;49m)\n\u001b[0;32m     <a href='vscode-notebook-cell:/c%3A/Users/01143577/Desktop/codes/zzsn/zzsn_conv.ipynb#ch0000008?line=36'>37</a>\u001b[0m \u001b[39m# Optionally plot various simulation information.\u001b[39;00m\n\u001b[0;32m     <a href='vscode-notebook-cell:/c%3A/Users/01143577/Desktop/codes/zzsn/zzsn_conv.ipynb#ch0000008?line=37'>38</a>\u001b[0m \u001b[39m# if plot and batch_size == 1:\u001b[39;00m\n\u001b[0;32m     <a href='vscode-notebook-cell:/c%3A/Users/01143577/Desktop/codes/zzsn/zzsn_conv.ipynb#ch0000008?line=38'>39</a>\u001b[0m \u001b[39m#     image = batch[\"image\"].view(28, 28)\u001b[39;00m\n\u001b[1;32m   (...)\u001b[0m\n\u001b[0;32m     <a href='vscode-notebook-cell:/c%3A/Users/01143577/Desktop/codes/zzsn/zzsn_conv.ipynb#ch0000008?line=56'>57</a>\u001b[0m \n\u001b[0;32m     <a href='vscode-notebook-cell:/c%3A/Users/01143577/Desktop/codes/zzsn/zzsn_conv.ipynb#ch0000008?line=57'>58</a>\u001b[0m \u001b[39m#     plt.pause(1)\u001b[39;00m\n\u001b[0;32m     <a href='vscode-notebook-cell:/c%3A/Users/01143577/Desktop/codes/zzsn/zzsn_conv.ipynb#ch0000008?line=59'>60</a>\u001b[0m network\u001b[39m.\u001b[39mreset_state_variables()  \u001b[39m# Reset state variables.\u001b[39;00m\n",
      "File \u001b[1;32mc:\\Users\\01143577\\.conda\\envs\\zzsn\\lib\\site-packages\\bindsnet\\network\\network.py:409\u001b[0m, in \u001b[0;36mNetwork.run\u001b[1;34m(self, inputs, time, one_step, **kwargs)\u001b[0m\n\u001b[0;32m    <a href='file:///c%3A/Users/01143577/.conda/envs/zzsn/lib/site-packages/bindsnet/network/network.py?line=406'>407</a>\u001b[0m \u001b[39m# Run synapse updates.\u001b[39;00m\n\u001b[0;32m    <a href='file:///c%3A/Users/01143577/.conda/envs/zzsn/lib/site-packages/bindsnet/network/network.py?line=407'>408</a>\u001b[0m \u001b[39mfor\u001b[39;00m c \u001b[39min\u001b[39;00m \u001b[39mself\u001b[39m\u001b[39m.\u001b[39mconnections:\n\u001b[1;32m--> <a href='file:///c%3A/Users/01143577/.conda/envs/zzsn/lib/site-packages/bindsnet/network/network.py?line=408'>409</a>\u001b[0m     \u001b[39mself\u001b[39m\u001b[39m.\u001b[39mconnections[c]\u001b[39m.\u001b[39mupdate(\n\u001b[0;32m    <a href='file:///c%3A/Users/01143577/.conda/envs/zzsn/lib/site-packages/bindsnet/network/network.py?line=409'>410</a>\u001b[0m         mask\u001b[39m=\u001b[39mmasks\u001b[39m.\u001b[39mget(c, \u001b[39mNone\u001b[39;00m), learning\u001b[39m=\u001b[39m\u001b[39mself\u001b[39m\u001b[39m.\u001b[39mlearning, \u001b[39m*\u001b[39m\u001b[39m*\u001b[39mkwargs\n\u001b[0;32m    <a href='file:///c%3A/Users/01143577/.conda/envs/zzsn/lib/site-packages/bindsnet/network/network.py?line=410'>411</a>\u001b[0m     )\n\u001b[0;32m    <a href='file:///c%3A/Users/01143577/.conda/envs/zzsn/lib/site-packages/bindsnet/network/network.py?line=412'>413</a>\u001b[0m \u001b[39m# # Get input to all layers.\u001b[39;00m\n\u001b[0;32m    <a href='file:///c%3A/Users/01143577/.conda/envs/zzsn/lib/site-packages/bindsnet/network/network.py?line=413'>414</a>\u001b[0m \u001b[39m# current_inputs.update(self._get_inputs())\u001b[39;00m\n\u001b[0;32m    <a href='file:///c%3A/Users/01143577/.conda/envs/zzsn/lib/site-packages/bindsnet/network/network.py?line=414'>415</a>\u001b[0m \n\u001b[0;32m    <a href='file:///c%3A/Users/01143577/.conda/envs/zzsn/lib/site-packages/bindsnet/network/network.py?line=415'>416</a>\u001b[0m \u001b[39m# Record state variables of interest.\u001b[39;00m\n\u001b[0;32m    <a href='file:///c%3A/Users/01143577/.conda/envs/zzsn/lib/site-packages/bindsnet/network/network.py?line=416'>417</a>\u001b[0m \u001b[39mfor\u001b[39;00m m \u001b[39min\u001b[39;00m \u001b[39mself\u001b[39m\u001b[39m.\u001b[39mmonitors:\n",
      "File \u001b[1;32mc:\\Users\\01143577\\.conda\\envs\\zzsn\\lib\\site-packages\\bindsnet\\network\\topology.py:236\u001b[0m, in \u001b[0;36mConnection.update\u001b[1;34m(self, **kwargs)\u001b[0m\n\u001b[0;32m    <a href='file:///c%3A/Users/01143577/.conda/envs/zzsn/lib/site-packages/bindsnet/network/topology.py?line=230'>231</a>\u001b[0m \u001b[39mdef\u001b[39;00m \u001b[39mupdate\u001b[39m(\u001b[39mself\u001b[39m, \u001b[39m*\u001b[39m\u001b[39m*\u001b[39mkwargs) \u001b[39m-\u001b[39m\u001b[39m>\u001b[39m \u001b[39mNone\u001b[39;00m:\n\u001b[0;32m    <a href='file:///c%3A/Users/01143577/.conda/envs/zzsn/lib/site-packages/bindsnet/network/topology.py?line=231'>232</a>\u001b[0m     \u001b[39m# language=rst\u001b[39;00m\n\u001b[0;32m    <a href='file:///c%3A/Users/01143577/.conda/envs/zzsn/lib/site-packages/bindsnet/network/topology.py?line=232'>233</a>\u001b[0m     \u001b[39m\"\"\"\u001b[39;00m\n\u001b[0;32m    <a href='file:///c%3A/Users/01143577/.conda/envs/zzsn/lib/site-packages/bindsnet/network/topology.py?line=233'>234</a>\u001b[0m \u001b[39m    Compute connection's update rule.\u001b[39;00m\n\u001b[0;32m    <a href='file:///c%3A/Users/01143577/.conda/envs/zzsn/lib/site-packages/bindsnet/network/topology.py?line=234'>235</a>\u001b[0m \u001b[39m    \"\"\"\u001b[39;00m\n\u001b[1;32m--> <a href='file:///c%3A/Users/01143577/.conda/envs/zzsn/lib/site-packages/bindsnet/network/topology.py?line=235'>236</a>\u001b[0m     \u001b[39msuper\u001b[39m()\u001b[39m.\u001b[39mupdate(\u001b[39m*\u001b[39m\u001b[39m*\u001b[39mkwargs)\n",
      "File \u001b[1;32mc:\\Users\\01143577\\.conda\\envs\\zzsn\\lib\\site-packages\\bindsnet\\network\\topology.py:112\u001b[0m, in \u001b[0;36mAbstractConnection.update\u001b[1;34m(self, **kwargs)\u001b[0m\n\u001b[0;32m    <a href='file:///c%3A/Users/01143577/.conda/envs/zzsn/lib/site-packages/bindsnet/network/topology.py?line=108'>109</a>\u001b[0m learning \u001b[39m=\u001b[39m kwargs\u001b[39m.\u001b[39mget(\u001b[39m\"\u001b[39m\u001b[39mlearning\u001b[39m\u001b[39m\"\u001b[39m, \u001b[39mTrue\u001b[39;00m)\n\u001b[0;32m    <a href='file:///c%3A/Users/01143577/.conda/envs/zzsn/lib/site-packages/bindsnet/network/topology.py?line=110'>111</a>\u001b[0m \u001b[39mif\u001b[39;00m learning:\n\u001b[1;32m--> <a href='file:///c%3A/Users/01143577/.conda/envs/zzsn/lib/site-packages/bindsnet/network/topology.py?line=111'>112</a>\u001b[0m     \u001b[39mself\u001b[39m\u001b[39m.\u001b[39mupdate_rule\u001b[39m.\u001b[39mupdate(\u001b[39m*\u001b[39m\u001b[39m*\u001b[39mkwargs)\n\u001b[0;32m    <a href='file:///c%3A/Users/01143577/.conda/envs/zzsn/lib/site-packages/bindsnet/network/topology.py?line=113'>114</a>\u001b[0m mask \u001b[39m=\u001b[39m kwargs\u001b[39m.\u001b[39mget(\u001b[39m\"\u001b[39m\u001b[39mmask\u001b[39m\u001b[39m\"\u001b[39m, \u001b[39mNone\u001b[39;00m)\n\u001b[0;32m    <a href='file:///c%3A/Users/01143577/.conda/envs/zzsn/lib/site-packages/bindsnet/network/topology.py?line=114'>115</a>\u001b[0m \u001b[39mif\u001b[39;00m mask \u001b[39mis\u001b[39;00m \u001b[39mnot\u001b[39;00m \u001b[39mNone\u001b[39;00m:\n",
      "File \u001b[1;32mc:\\Users\\01143577\\.conda\\envs\\zzsn\\lib\\site-packages\\bindsnet\\learning\\learning.py:139\u001b[0m, in \u001b[0;36mNoOp.update\u001b[1;34m(self, **kwargs)\u001b[0m\n\u001b[0;32m    <a href='file:///c%3A/Users/01143577/.conda/envs/zzsn/lib/site-packages/bindsnet/learning/learning.py?line=133'>134</a>\u001b[0m \u001b[39mdef\u001b[39;00m \u001b[39mupdate\u001b[39m(\u001b[39mself\u001b[39m, \u001b[39m*\u001b[39m\u001b[39m*\u001b[39mkwargs) \u001b[39m-\u001b[39m\u001b[39m>\u001b[39m \u001b[39mNone\u001b[39;00m:\n\u001b[0;32m    <a href='file:///c%3A/Users/01143577/.conda/envs/zzsn/lib/site-packages/bindsnet/learning/learning.py?line=134'>135</a>\u001b[0m     \u001b[39m# language=rst\u001b[39;00m\n\u001b[0;32m    <a href='file:///c%3A/Users/01143577/.conda/envs/zzsn/lib/site-packages/bindsnet/learning/learning.py?line=135'>136</a>\u001b[0m     \u001b[39m\"\"\"\u001b[39;00m\n\u001b[0;32m    <a href='file:///c%3A/Users/01143577/.conda/envs/zzsn/lib/site-packages/bindsnet/learning/learning.py?line=136'>137</a>\u001b[0m \u001b[39m    Abstract method for a learning rule update.\u001b[39;00m\n\u001b[0;32m    <a href='file:///c%3A/Users/01143577/.conda/envs/zzsn/lib/site-packages/bindsnet/learning/learning.py?line=137'>138</a>\u001b[0m \u001b[39m    \"\"\"\u001b[39;00m\n\u001b[1;32m--> <a href='file:///c%3A/Users/01143577/.conda/envs/zzsn/lib/site-packages/bindsnet/learning/learning.py?line=138'>139</a>\u001b[0m     \u001b[39msuper\u001b[39;49m()\u001b[39m.\u001b[39;49mupdate()\n",
      "File \u001b[1;32mc:\\Users\\01143577\\.conda\\envs\\zzsn\\lib\\site-packages\\bindsnet\\learning\\learning.py:95\u001b[0m, in \u001b[0;36mLearningRule.update\u001b[1;34m(self)\u001b[0m\n\u001b[0;32m     <a href='file:///c%3A/Users/01143577/.conda/envs/zzsn/lib/site-packages/bindsnet/learning/learning.py?line=91'>92</a>\u001b[0m     \u001b[39mself\u001b[39m\u001b[39m.\u001b[39mconnection\u001b[39m.\u001b[39mw \u001b[39m*\u001b[39m\u001b[39m=\u001b[39m \u001b[39mself\u001b[39m\u001b[39m.\u001b[39mweight_decay\n\u001b[0;32m     <a href='file:///c%3A/Users/01143577/.conda/envs/zzsn/lib/site-packages/bindsnet/learning/learning.py?line=93'>94</a>\u001b[0m \u001b[39m# Bound weights.\u001b[39;00m\n\u001b[1;32m---> <a href='file:///c%3A/Users/01143577/.conda/envs/zzsn/lib/site-packages/bindsnet/learning/learning.py?line=94'>95</a>\u001b[0m \u001b[39mif\u001b[39;00m (\n\u001b[0;32m     <a href='file:///c%3A/Users/01143577/.conda/envs/zzsn/lib/site-packages/bindsnet/learning/learning.py?line=95'>96</a>\u001b[0m     (\u001b[39mself\u001b[39m\u001b[39m.\u001b[39mconnection\u001b[39m.\u001b[39mwmin \u001b[39m!=\u001b[39m \u001b[39m-\u001b[39mnp\u001b[39m.\u001b[39minf)\u001b[39m.\u001b[39many()\n\u001b[0;32m     <a href='file:///c%3A/Users/01143577/.conda/envs/zzsn/lib/site-packages/bindsnet/learning/learning.py?line=96'>97</a>\u001b[0m     \u001b[39mor\u001b[39;00m (\u001b[39mself\u001b[39m\u001b[39m.\u001b[39mconnection\u001b[39m.\u001b[39mwmax \u001b[39m!=\u001b[39m np\u001b[39m.\u001b[39minf)\u001b[39m.\u001b[39many()\n\u001b[0;32m     <a href='file:///c%3A/Users/01143577/.conda/envs/zzsn/lib/site-packages/bindsnet/learning/learning.py?line=97'>98</a>\u001b[0m ) \u001b[39mand\u001b[39;00m \u001b[39mnot\u001b[39;00m \u001b[39misinstance\u001b[39m(\u001b[39mself\u001b[39m, NoOp):\n\u001b[0;32m     <a href='file:///c%3A/Users/01143577/.conda/envs/zzsn/lib/site-packages/bindsnet/learning/learning.py?line=98'>99</a>\u001b[0m     \u001b[39mself\u001b[39m\u001b[39m.\u001b[39mconnection\u001b[39m.\u001b[39mw\u001b[39m.\u001b[39mclamp_(\u001b[39mself\u001b[39m\u001b[39m.\u001b[39mconnection\u001b[39m.\u001b[39mwmin, \u001b[39mself\u001b[39m\u001b[39m.\u001b[39mconnection\u001b[39m.\u001b[39mwmax)\n",
      "\u001b[1;31mKeyboardInterrupt\u001b[0m: "
     ]
    }
   ],
   "source": [
    "# Train the network.\n",
    "print(\"Begin training.\\n\")\n",
    "start = t()\n",
    "\n",
    "for epoch in range(n_epochs):\n",
    "    if epoch % progress_interval == 0:\n",
    "        print(f\"Progress: {epoch} / {n_epochs} ({(t() - start):.4f} seconds)\")\n",
    "        start = t()\n",
    "\n",
    "    train_dataloader = torch.utils.data.DataLoader(\n",
    "        train_dataset,\n",
    "        batch_size=batch_size,\n",
    "        shuffle=True,\n",
    "        num_workers=0,\n",
    "        pin_memory=True,\n",
    "    )\n",
    "\n",
    "    for step, batch in enumerate(tqdm(train_dataloader)):\n",
    "        # Get next input sample.\n",
    "        if step > n_train:\n",
    "            break\n",
    "        inputs = {\"X\": batch[\"encoded_image\"].view(time, batch_size, 1, 28, 28)}\n",
    "        inputs = {k: v.cuda() for k, v in inputs.items()}\n",
    "        label = batch[\"label\"]\n",
    "\n",
    "        # Run the network on the input.\n",
    "        network.run(inputs=inputs, time=time, input_time_dim=1)\n",
    "\n",
    "        network.reset_state_variables()  # Reset state variables.\n",
    "\n",
    "print(f\"Progress: {n_epochs} / {n_epochs} ({(t() - start):.4f} seconds)\\n\")\n",
    "print(\"Training complete.\\n\")"
   ]
  },
  {
   "cell_type": "code",
   "execution_count": null,
   "metadata": {},
   "outputs": [],
   "source": [
    "torch.save(network.state_dict(), \"./models/SNN_conv_test.pth\")"
   ]
  }
 ],
 "metadata": {
  "interpreter": {
   "hash": "a07ff98b09dfc4d9731a3c448dbce9600fd87f0e687e8651988bbe1fa4cad4e7"
  },
  "kernelspec": {
   "display_name": "Python 3.9.12 ('zzsn')",
   "language": "python",
   "name": "python3"
  },
  "language_info": {
   "codemirror_mode": {
    "name": "ipython",
    "version": 3
   },
   "file_extension": ".py",
   "mimetype": "text/x-python",
   "name": "python",
   "nbconvert_exporter": "python",
   "pygments_lexer": "ipython3",
   "version": "3.9.12"
  },
  "orig_nbformat": 4
 },
 "nbformat": 4,
 "nbformat_minor": 2
}
