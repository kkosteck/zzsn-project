{
 "cells": [
  {
   "cell_type": "code",
   "execution_count": null,
   "metadata": {},
   "outputs": [],
   "source": [
    "import os\n",
    "from bindsnet.datasets import MNIST\n",
    "from bindsnet.encoding import PoissonEncoder\n",
    "from SNN_supervised import load_config, create_network, create_monitorings, train_network\n",
    "from torchvision import transforms"
   ]
  },
  {
   "cell_type": "code",
   "execution_count": null,
   "metadata": {},
   "outputs": [],
   "source": [
    "config = load_config(\"config.json\")\n",
    "network = create_network(config[\"n_neurons\"], config[\"exc\"], config[\"inh\"], config[\"dt\"], config[\"theta_plus\"])\n",
    "network, spikes = create_monitorings(network, config[\"time\"])\n",
    "\n",
    "dataset = MNIST(\n",
    "    PoissonEncoder(time=config[\"time\"], dt=config[\"dt\"]),\n",
    "    None,\n",
    "    root=os.path.join(\"..\", \"..\", \"data\", \"MNIST\"),\n",
    "    download=True,\n",
    "    transform=transforms.Compose(\n",
    "        [transforms.ToTensor(), transforms.Lambda(lambda x: x * config[\"intensity\"])]\n",
    "    ),\n",
    ")\n",
    "train_network(network, dataset, spikes, config[\"n_train\"], config[\"update_interval\"], config[\"n_classes\"], config[\"time\"], config[\"n_neurons\"], config[\"n_clamp\"])"
   ]
  }
 ],
 "metadata": {
  "interpreter": {
   "hash": "a07ff98b09dfc4d9731a3c448dbce9600fd87f0e687e8651988bbe1fa4cad4e7"
  },
  "kernelspec": {
   "display_name": "Python 3.9.12 ('zzsn')",
   "language": "python",
   "name": "python3"
  },
  "language_info": {
   "codemirror_mode": {
    "name": "ipython",
    "version": 3
   },
   "file_extension": ".py",
   "mimetype": "text/x-python",
   "name": "python",
   "nbconvert_exporter": "python",
   "pygments_lexer": "ipython3",
   "version": "3.9.12"
  },
  "orig_nbformat": 4
 },
 "nbformat": 4,
 "nbformat_minor": 2
}
