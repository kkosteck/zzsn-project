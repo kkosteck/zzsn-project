{
 "cells": [
  {
   "cell_type": "code",
   "execution_count": null,
   "metadata": {},
   "outputs": [],
   "source": [
    "from bindsnet.models import IncreasingInhibitionNetwork\n",
    "from bindsnet.datasets import MNIST\n",
    "from bindsnet.encoding import PoissonEncoder\n",
    "from torchvision import transforms\n",
    "import torch, os\n",
    "from tqdm import tqdm\n",
    "\n",
    "torch.set_num_threads(os.cpu_count() - 1)"
   ]
  },
  {
   "cell_type": "code",
   "execution_count": null,
   "metadata": {},
   "outputs": [],
   "source": [
    "config = {\n",
    "    \"n_neurons\": 100,\n",
    "    \"n_train\": 50000,\n",
    "    \"n_test\": 10000,\n",
    "    \"n_eval\": 500,\n",
    "    \"exc\": 22.5,\n",
    "    \"inh\": 120,\n",
    "    \"theta_plus\": 0.05,\n",
    "    \"time\": 1,\n",
    "    \"dt\": 1.0,\n",
    "    \"intensity\": 32,\n",
    "    \"update_interval\": 10,\n",
    "    \"eval_interval\": 1000,\n",
    "    \"dataset\": \"mnist\",\n",
    "    \"n_classes\": 10,\n",
    "    \"lr\": [1e-10, 1e-3]\n",
    "}"
   ]
  }
 ],
 "metadata": {
  "language_info": {
   "name": "python"
  },
  "orig_nbformat": 4
 },
 "nbformat": 4,
 "nbformat_minor": 2
}
