{
 "cells": [
  {
   "cell_type": "code",
   "execution_count": null,
   "metadata": {},
   "outputs": [],
   "source": [
    "!pip install git+https://github.com/BindsNET/bindsnet.git"
   ]
  },
  {
   "cell_type": "code",
   "execution_count": 1,
   "metadata": {},
   "outputs": [],
   "source": [
    "import os\n",
    "from bindsnet.datasets import MNIST\n",
    "from bindsnet.encoding import PoissonEncoder\n",
    "from SNN_supervised import create_network, create_monitorings, train_network, save_network, test_network\n",
    "from torchvision import transforms\n",
    "import torch"
   ]
  },
  {
   "cell_type": "code",
   "execution_count": 2,
   "metadata": {},
   "outputs": [],
   "source": [
    "config = {\n",
    "    \"n_neurons\": 100,\n",
    "    \"n_train\": 50000,\n",
    "    \"n_test\": 10000,\n",
    "    \"n_eval\": 500,\n",
    "    \"exc\": 22.5,\n",
    "    \"inh\": 120,\n",
    "    \"theta_plus\": 0.05,\n",
    "    \"time\": 1,\n",
    "    \"dt\": 1.0,\n",
    "    \"intensity\": 32,\n",
    "    \"update_interval\": 10,\n",
    "    \"eval_interval\": 1000,\n",
    "    \"dataset\": \"mnist\",\n",
    "    \"n_classes\": 10,\n",
    "    \"lr\": [1e-10, 1e-3]\n",
    "}"
   ]
  },
  {
   "cell_type": "code",
   "execution_count": 3,
   "metadata": {},
   "outputs": [],
   "source": [
    "network = create_network(config[\"n_neurons\"], config[\"exc\"], config[\"inh\"], config[\"dt\"], config[\"theta_plus\"], config[\"lr\"])\n",
    "network.load_state_dict(torch.load(\"models/standard_5000.pth\"))\n",
    "network, spikes = create_monitorings(network, config[\"time\"])"
   ]
  },
  {
   "cell_type": "code",
   "execution_count": 4,
   "metadata": {},
   "outputs": [],
   "source": [
    "dataset = MNIST(\n",
    "    PoissonEncoder(time=config[\"time\"], dt=config[\"dt\"]),\n",
    "    None,\n",
    "    root=os.path.join(\"..\", \"..\", \"data\", \"MNIST\"),\n",
    "    download=True,\n",
    "    transform=transforms.Compose(\n",
    "        [transforms.ToTensor(), transforms.Lambda(lambda x: x * config[\"intensity\"])]\n",
    "    ),\n",
    ")"
   ]
  },
  {
   "cell_type": "code",
   "execution_count": 5,
   "metadata": {},
   "outputs": [],
   "source": [
    "train_set, val_set = torch.utils.data.random_split(dataset, [config[\"n_train\"], config[\"n_test\"]])"
   ]
  },
  {
   "cell_type": "code",
   "execution_count": null,
   "metadata": {},
   "outputs": [],
   "source": [
    "network = train_network(network, train_set, val_set, spikes, config)"
   ]
  },
  {
   "cell_type": "code",
   "execution_count": null,
   "metadata": {},
   "outputs": [],
   "source": [
    "save_network(network, \"test.pth\")"
   ]
  },
  {
   "cell_type": "code",
   "execution_count": null,
   "metadata": {},
   "outputs": [],
   "source": [
    "test_network(network, config, spikes, val_set)"
   ]
  }
 ],
 "metadata": {
  "interpreter": {
   "hash": "a07ff98b09dfc4d9731a3c448dbce9600fd87f0e687e8651988bbe1fa4cad4e7"
  },
  "kernelspec": {
   "display_name": "Python 3.9.12 ('zzsn')",
   "language": "python",
   "name": "python3"
  },
  "language_info": {
   "codemirror_mode": {
    "name": "ipython",
    "version": 3
   },
   "file_extension": ".py",
   "mimetype": "text/x-python",
   "name": "python",
   "nbconvert_exporter": "python",
   "pygments_lexer": "ipython3",
   "version": "3.9.12"
  },
  "orig_nbformat": 4
 },
 "nbformat": 4,
 "nbformat_minor": 2
}
