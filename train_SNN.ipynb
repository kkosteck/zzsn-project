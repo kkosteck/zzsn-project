{
 "cells": [
  {
   "cell_type": "markdown",
   "metadata": {},
   "source": [
    "# Trenowanie modelu"
   ]
  },
  {
   "cell_type": "code",
   "execution_count": 1,
   "metadata": {},
   "outputs": [],
   "source": [
    "import os\n",
    "from bindsnet.datasets import MNIST\n",
    "from bindsnet.encoding import PoissonEncoder\n",
    "from SNN_supervised import create_network, create_monitorings, train_network, save_network, test_network, load_config\n",
    "from torchvision import transforms\n",
    "import torch"
   ]
  },
  {
   "cell_type": "markdown",
   "metadata": {},
   "source": [
    "## Parametry modelu"
   ]
  },
  {
   "cell_type": "markdown",
   "metadata": {},
   "source": [
    "Parametry mogą być zmieniane bezpośrednio w notebooku"
   ]
  },
  {
   "cell_type": "code",
   "execution_count": 2,
   "metadata": {},
   "outputs": [],
   "source": [
    "config = {\n",
    "    \"n_neurons\": 100, # Number of excitatory, inhibitory neurons\n",
    "    \"n_train\": 50000, # Training set size\n",
    "    \"n_test\": 10000, # Testing set size\n",
    "    \"n_eval\": 500, # Evaluation set size\n",
    "    \"exc\": 22.5, # Strength of synapse weights from excitatory to inhibitory layer\n",
    "    \"inh\": 120, # Strength of synapse weights from inhibitory to excitatory layer\n",
    "    \"theta_plus\": 0.05, # On-spike increment of DiehlAndCookNodes membrane threshold potential\n",
    "    \"time\": 1, # Simulation time\n",
    "    \"dt\": 1.0, # Simulation time step\n",
    "    \"intensity\": 32,\n",
    "    \"update_interval\": 10, # Accuracy update interval\n",
    "    \"eval_interval\": 1000, # Evaulation interval\n",
    "    \"n_classes\": 10, # Count of dataset classes\n",
    "    \"lr\": [1e-10, 1e-3] # learning rate\n",
    "}"
   ]
  },
  {
   "cell_type": "markdown",
   "metadata": {},
   "source": [
    "lub pobrane z pliku konfiguracyjnego"
   ]
  },
  {
   "cell_type": "code",
   "execution_count": null,
   "metadata": {},
   "outputs": [],
   "source": [
    "config = load_config(\"config.json\")"
   ]
  },
  {
   "cell_type": "markdown",
   "metadata": {},
   "source": [
    "### Zainicjalizowanie modelu sieci"
   ]
  },
  {
   "cell_type": "code",
   "execution_count": 3,
   "metadata": {},
   "outputs": [],
   "source": [
    "network = create_network(config[\"n_neurons\"], config[\"exc\"], config[\"inh\"], config[\"dt\"], config[\"theta_plus\"], config[\"lr\"])\n",
    "network.load_state_dict(torch.load(\"models/standard_5000.pth\"))\n",
    "network, spikes = create_monitorings(network, config[\"time\"])"
   ]
  },
  {
   "cell_type": "code",
   "execution_count": 4,
   "metadata": {},
   "outputs": [],
   "source": [
    "dataset = MNIST(\n",
    "    PoissonEncoder(time=config[\"time\"], dt=config[\"dt\"]),\n",
    "    None,\n",
    "    root=os.path.join(\"..\", \"..\", \"data\", \"MNIST\"),\n",
    "    download=True,\n",
    "    transform=transforms.Compose(\n",
    "        [transforms.ToTensor(), transforms.Lambda(lambda x: x * config[\"intensity\"])]\n",
    "    ),\n",
    ")"
   ]
  },
  {
   "cell_type": "code",
   "execution_count": 5,
   "metadata": {},
   "outputs": [],
   "source": [
    "train_set, val_set = torch.utils.data.random_split(dataset, [config[\"n_train\"], config[\"n_test\"]])"
   ]
  },
  {
   "cell_type": "markdown",
   "metadata": {},
   "source": [
    "#### Trenowanie modelu"
   ]
  },
  {
   "cell_type": "code",
   "execution_count": null,
   "metadata": {},
   "outputs": [],
   "source": [
    "network = train_network(network, train_set, val_set, spikes, config)"
   ]
  },
  {
   "cell_type": "code",
   "execution_count": null,
   "metadata": {},
   "outputs": [],
   "source": [
    "save_network(network, \"test.pth\")"
   ]
  },
  {
   "cell_type": "markdown",
   "metadata": {},
   "source": [
    "#### Testowanie modelu"
   ]
  },
  {
   "cell_type": "code",
   "execution_count": null,
   "metadata": {},
   "outputs": [],
   "source": [
    "test_network(network, config, spikes, val_set)"
   ]
  }
 ],
 "metadata": {
  "interpreter": {
   "hash": "a07ff98b09dfc4d9731a3c448dbce9600fd87f0e687e8651988bbe1fa4cad4e7"
  },
  "kernelspec": {
   "display_name": "Python 3.9.12 ('zzsn')",
   "language": "python",
   "name": "python3"
  },
  "language_info": {
   "codemirror_mode": {
    "name": "ipython",
    "version": 3
   },
   "file_extension": ".py",
   "mimetype": "text/x-python",
   "name": "python",
   "nbconvert_exporter": "python",
   "pygments_lexer": "ipython3",
   "version": "3.9.12"
  },
  "orig_nbformat": 4
 },
 "nbformat": 4,
 "nbformat_minor": 2
}
